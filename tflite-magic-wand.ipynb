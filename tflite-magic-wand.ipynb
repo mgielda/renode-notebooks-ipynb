{
 "cells": [
  {
   "cell_type": "markdown",
   "metadata": {
    "cell_marker": "\"\"\""
   },
   "source": [
    "![Renode](https://antmicro.com/OpenSource/assets/images/projects/renode.png)\n",
    "\n",
    "## Intro + How to run this\n",
    "\n",
    "This notebook shows how Renode, an open source IoT/embedded simulation framework from [Antmicro](https://antmicro.com) can be used for simulation a virtual Zephyr board with RISC-V and show a sample execution of TensorFlow Lite magic wand demo.\n",
    "\n",
    "This runs entirely in the browser - just use **Runtime -> Run all** and see the output!\n",
    "\n",
    "For more backround, see the [README](https://github.com/mgielda/renode-notebooks-ipynb/tree/master) of the master repository."
   ]
  },
  {
   "cell_type": "code",
   "execution_count": null,
   "metadata": {
    "title": "Install Renode and some Python packages"
   },
   "outputs": [],
   "source": [
    "import os\n",
    "\n",
    "!mkdir -p renode && cd renode && curl -L https://dl.antmicro.com/projects/renode/builds/renode-latest.linux-portable.tar.gz | tar xz --strip 1\n",
    "os.environ['PATH'] = os.getcwd()+\"/renode:\"+os.environ['PATH']\n",
    "\n",
    "!pip3 install git+https://github.com/mgielda/pyrenode robotframework==3.1 netifaces requests psutil pyyaml\n",
    "\n",
    "!mkdir -p litex_tflite && cd litex_tflite && curl -L https://github.com/antmicro/litex-vexriscv-tensorflow-lite-demo/archive/colab-demo.tar.gz | tar xz --strip 1"
   ]
  },
  {
   "cell_type": "markdown",
   "metadata": {
    "cell_marker": "\"\"\",\n\"\"\""
   },
   "source": [
    "## Housekeeping\n",
    "\n",
    "Some initialization. Import a simplistic pyrenode lib to talk to Renode over telnet, then shutdown Renode just in case it was running and create a new instance."
   ]
  },
  {
   "cell_type": "code",
   "execution_count": null,
   "metadata": {},
   "outputs": [],
   "source": [
    "from pyrenode import *\n",
    "shutdown_renode()\n",
    "connect_renode() # this sets up a log file, and clears the simulation (just in case)"
   ]
  },
  {
   "cell_type": "markdown",
   "metadata": {
    "cell_marker": "\"\"\""
   },
   "source": [
    "## Use your binary\n",
    "You can build your own binary file, see the [litex-vexriscv-tensorflow-lite-demo](https://github.com/antmicro/litex-vexriscv-tensorflow-lite-demo) repository for building instructions.\n",
    "Upload your binary to the hosted runtime (using the Files tab on the left) and provide path for $zephyr_elf.\n",
    "\n",
    "tell_renode('$zephyr_elf=@path/to/elf/file')"
   ]
  },
  {
   "cell_type": "code",
   "execution_count": null,
   "metadata": {},
   "outputs": [],
   "source": [
    "tell_renode('$zephyr_elf=@../litex_tflite/binaries/magic_wand/zephyr.elf')\n",
    "tell_renode('i @../litex_tflite/renode/litex-vexriscv-tflite.resc')\n",
    "print(read_until('(machine-0)').strip())\n",
    "tell_renode('uart CreateFileBackend \"uart_output\"')\n",
    "tell_renode('s')\n",
    "print(read_until('Starting emulation...').strip())\n",
    "import time\n",
    "time.sleep(60) # defines simulation time\n",
    "shutdown_renode()\n",
    "expect_log(\"Disposed.\")"
   ]
  },
  {
   "cell_type": "code",
   "execution_count": null,
   "metadata": {},
   "outputs": [],
   "source": [
    "uart_output = open('renode/uart_output','r')\n",
    "content = uart_output.read()\n",
    "print(content)"
   ]
  }
 ],
 "metadata": {
  "jupytext": {
   "cell_metadata_filter": "title,-all",
   "main_language": "python",
   "notebook_metadata_filter": "-all"
  }
 },
 "nbformat": 4,
 "nbformat_minor": 4
}
