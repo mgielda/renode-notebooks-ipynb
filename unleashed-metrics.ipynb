{
 "cells": [
  {
   "cell_type": "markdown",
   "metadata": {
    "cell_marker": "\"\"\""
   },
   "source": [
    "![Renode](https://antmicro.com/OpenSource/assets/images/projects/renode.png)\n",
    "\n",
    "## Requirements to run locally (if you really want!)\n",
    "\n",
    "* pyrenode (super simple script a variant of renode-pytest)\n",
    "* Jupyter notebook installed and running locally:\n",
    "\n",
    "```\n",
    "python3 -m jupyter notebook \\\n",
    "  --NotebookApp.allow_origin='https://colab.research.google.com' \\\n",
    "  --port=8888 \\\n",
    "  --NotebookApp.port_retries=0\n",
    "```\n",
    "\n",
    "* following this guide: https://research.google.com/colaboratory/local-runtimes.html"
   ]
  },
  {
   "cell_type": "code",
   "execution_count": null,
   "metadata": {},
   "outputs": [],
   "source": [
    "import ipywidgets as widgets\n",
    "import os"
   ]
  },
  {
   "cell_type": "code",
   "execution_count": null,
   "metadata": {
    "title": "install Renode portable"
   },
   "outputs": [],
   "source": [
    "!rm renode.tar.gz\n",
    "!wget https://www.dropbox.com/s/b4eqhiqxgnn1vcx/renode.tar.gz\n",
    "!mkdir -p renode && cd renode && tar -xzf ../renode.tar.gz --strip 1\n",
    "os.environ['PATH'] = os.getcwd()+\"/renode:\"+os.environ['PATH']"
   ]
  },
  {
   "cell_type": "code",
   "execution_count": null,
   "metadata": {
    "title": "pyrenode + testing deps"
   },
   "outputs": [],
   "source": [
    "!pip3 install git+https://github.com/mgielda/pyrenode robotframework==3.1 netifaces requests psutil pyyaml matplotlib pandas numpy"
   ]
  },
  {
   "cell_type": "markdown",
   "metadata": {
    "cell_marker": "\"\"\",\n\"\"\""
   },
   "source": [
    "## Housekeeping\n",
    "\n",
    "Some initialization. Import a simplistic pyrenode lib to talk to Renode over telnet, then shutdown Renode just in case it was running and create a new instance."
   ]
  },
  {
   "cell_type": "code",
   "execution_count": null,
   "metadata": {},
   "outputs": [],
   "source": [
    "from pyrenode import *\n",
    "shutdown_renode()\n",
    "connect_renode() # this sets up a log file, and clears the simulation (just in case)"
   ]
  },
  {
   "cell_type": "code",
   "execution_count": null,
   "metadata": {},
   "outputs": [],
   "source": [
    "tell_renode('i @scripts/single-node/hifive_unleashed.resc')\n",
    "print(read_until('(hifive-unleashed)').strip())\n",
    "tell_renode('machine EnableProfiler \"demo\"')\n",
    "print(read_until('(hifive-unleashed)').strip())\n",
    "tell_renode('s')\n",
    "print(read_until('Starting emulation...').strip())"
   ]
  },
  {
   "cell_type": "code",
   "execution_count": null,
   "metadata": {},
   "outputs": [],
   "source": [
    "shutdown_renode()\n",
    "expect_log(\"Disposed.\") # to be sure if buffer to dump file is flushed\n",
    "!python3 renode/tools/metrics-analyzer/metrics-analyzer.py renode/demo"
   ]
  },
  {
   "cell_type": "code",
   "execution_count": null,
   "metadata": {},
   "outputs": [],
   "source": [
    "from IPython.display import Image\n",
    "Image('instructions.png')"
   ]
  },
  {
   "cell_type": "code",
   "execution_count": null,
   "metadata": {},
   "outputs": [],
   "source": [
    "from IPython.display import Image\n",
    "Image('memory.png')"
   ]
  },
  {
   "cell_type": "code",
   "execution_count": null,
   "metadata": {},
   "outputs": [],
   "source": [
    "from IPython.display import Image\n",
    "Image('exceptions.png')"
   ]
  },
  {
   "cell_type": "code",
   "execution_count": null,
   "metadata": {},
   "outputs": [],
   "source": [
    "from IPython.display import Image\n",
    "Image('peripherals.png')"
   ]
  },
  {
   "cell_type": "code",
   "execution_count": null,
   "metadata": {},
   "outputs": [],
   "source": []
  }
 ],
 "metadata": {
  "jupytext": {
   "cell_metadata_filter": "title,-all",
   "main_language": "python",
   "notebook_metadata_filter": "-all"
  }
 },
 "nbformat": 4,
 "nbformat_minor": 4
}
