{
 "cells": [
  {
   "cell_type": "markdown",
   "metadata": {
    "cell_marker": "\"\"\""
   },
   "source": [
    "![Renode](https://antmicro.com/OpenSource/assets/images/projects/renode.png)\n",
    "\n",
    "## Intro + How to run this\n",
    "\n",
    "This notebook shows how Renode, an open source IoT/embedded simulation framework from [Antmicro](https://antmicro.com) can be used for simulation a virtual Linux board with RISC-V and show some execution metrics.\n",
    "\n",
    "This runs entirely in the browser - just use **Runtime -> Run all** and see the output!\n",
    "\n",
    "For more backround, see the [README](https://github.com/mgielda/renode-notebooks-ipynb/tree/master) of the master repository."
   ]
  },
  {
   "cell_type": "code",
   "execution_count": null,
   "metadata": {
    "title": "Install Renode and some Python packages"
   },
   "outputs": [],
   "source": [
    "import os\n",
    "\n",
    "!mkdir -p renode && cd renode && curl -L https://www.dropbox.com/s/b4eqhiqxgnn1vcx/renode.tar.gz | tar xz --strip 1\n",
    "os.environ['PATH'] = os.getcwd()+\"/renode:\"+os.environ['PATH']\n",
    "\n",
    "!pip3 install git+https://github.com/mgielda/pyrenode robotframework==3.1 netifaces requests psutil pyyaml matplotlib pandas numpy"
   ]
  },
  {
   "cell_type": "markdown",
   "metadata": {
    "cell_marker": "\"\"\",\n\"\"\""
   },
   "source": [
    "## Housekeeping\n",
    "\n",
    "Some initialization. Import a simplistic pyrenode lib to talk to Renode over telnet, then shutdown Renode just in case it was running and create a new instance."
   ]
  },
  {
   "cell_type": "code",
   "execution_count": null,
   "metadata": {},
   "outputs": [],
   "source": [
    "from pyrenode import *\n",
    "shutdown_renode()\n",
    "connect_renode() # this sets up a log file, and clears the simulation (just in case)"
   ]
  },
  {
   "cell_type": "code",
   "execution_count": null,
   "metadata": {},
   "outputs": [],
   "source": [
    "tell_renode('i @scripts/single-node/hifive_unleashed.resc')\n",
    "print(read_until('(hifive-unleashed)').strip())\n",
    "tell_renode('machine EnableProfiler \"demo\"')\n",
    "print(read_until('(hifive-unleashed)').strip())\n",
    "\n",
    "# Put the UART output in the log - this allows us to wait for specific lines\n",
    "tell_renode('showAnalyzer uart0 Antmicro.Renode.Analyzers.LoggingUartAnalyzer')\n",
    "tell_renode('emulation RunFor \"1\"')\n",
    "expect_log(\"SiFive GPIO chip registered 16 GPIOs\", 60)"
   ]
  },
  {
   "cell_type": "code",
   "execution_count": null,
   "metadata": {},
   "outputs": [],
   "source": [
    "shutdown_renode()\n",
    "expect_log(\"Disposed.\") # to be sure if buffer to dump file is flushed\n",
    "!python3 renode/tools/metrics-analyzer/metrics-analyzer.py renode/demo"
   ]
  },
  {
   "cell_type": "code",
   "execution_count": null,
   "metadata": {},
   "outputs": [],
   "source": [
    "from IPython.display import Image\n",
    "Image('instructions.png')"
   ]
  },
  {
   "cell_type": "code",
   "execution_count": null,
   "metadata": {},
   "outputs": [],
   "source": [
    "from IPython.display import Image\n",
    "Image('memory.png')"
   ]
  },
  {
   "cell_type": "code",
   "execution_count": null,
   "metadata": {},
   "outputs": [],
   "source": [
    "from IPython.display import Image\n",
    "Image('exceptions.png')"
   ]
  },
  {
   "cell_type": "code",
   "execution_count": null,
   "metadata": {},
   "outputs": [],
   "source": [
    "from IPython.display import Image\n",
    "Image('peripherals.png')"
   ]
  },
  {
   "cell_type": "code",
   "execution_count": null,
   "metadata": {},
   "outputs": [],
   "source": []
  }
 ],
 "metadata": {
  "jupytext": {
   "cell_metadata_filter": "title,-all",
   "main_language": "python",
   "notebook_metadata_filter": "-all"
  }
 },
 "nbformat": 4,
 "nbformat_minor": 4
}
